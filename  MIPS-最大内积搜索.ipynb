{
 "cells": [
  {
   "cell_type": "markdown",
   "metadata": {},
   "source": [
    "# 最大点积搜索 Maximum Inner Product Search (MIPS)\n",
    "\n",
    "定义：给定一个向量q(query)和一个向量集X(维度必然一致)，找出向量集X中与q点积比较大的一些向量。公式可以表示为："
   ]
  },
  {
   "cell_type": "markdown",
   "metadata": {},
   "source": [
    "MIPS可以将一些稠密的问题转化为稀疏化解决(例如: 一些稠密的分类问题, 一些稠密的回归问题, 一些稠密的聚类问题, 一些稠密的推荐问题等等),这在图算法的规模化是很有帮助的\n",
    "\n",
    "类似的算法：LSH-MIPS、PCA-MIPS、Diamond sampling approach"
   ]
  },
  {
   "cell_type": "markdown",
   "metadata": {},
   "source": []
  }
 ],
 "metadata": {
  "language_info": {
   "name": "python"
  },
  "orig_nbformat": 4
 },
 "nbformat": 4,
 "nbformat_minor": 2
}
